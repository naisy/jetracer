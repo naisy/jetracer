{
 "cells": [
  {
   "cell_type": "markdown",
   "metadata": {},
   "source": [
    "# Road Following - Live demo(TensorRTデモ)\n",
    "Pytorchで学習したモデルをTensorRTモデルに変換したことで高速処理が可能になりました。  \n",
    "このノートブックでは、TensorRT化したモデルを使うことでカクツキを抑えてJetRacerがなめらかに走行することを確認できます。"
   ]
  },
  {
   "cell_type": "markdown",
   "metadata": {},
   "source": [
    "### Load Trained Model(学習済みモデルの読み込み)\n",
    "``convert_to_trt.ipynb``ノートブックの指示に従って、すでに``road_following_model_trt.pth``を作成していることを想定します。\n",
    "TensorRTモデル``road_following_model_trt.pth``を読み込みます。"
   ]
  },
  {
   "cell_type": "code",
   "execution_count": null,
   "metadata": {},
   "outputs": [],
   "source": [
    "import torch\n",
    "from torch2trt import TRTModule\n",
    "\n",
    "model_trt = TRTModule()\n",
    "model_trt.load_state_dict(torch.load('road_following_model_trt.pth'))"
   ]
  },
  {
   "cell_type": "markdown",
   "metadata": {},
   "source": [
    "車両制御クラスをインスタンス化します。"
   ]
  },
  {
   "cell_type": "code",
   "execution_count": null,
   "metadata": {},
   "outputs": [],
   "source": [
    "from jetracer.nvidia_racecar import NvidiaRacecar\n",
    "car = NvidiaRacecar()"
   ]
  },
  {
   "cell_type": "markdown",
   "metadata": {},
   "source": [
    "一度カメラ用のデーモンを再起動しておきます。"
   ]
  },
  {
   "cell_type": "code",
   "execution_count": null,
   "metadata": {},
   "outputs": [],
   "source": [
    "!echo jetson | sudo -S systemctl restart nvargus-daemon"
   ]
  },
  {
   "cell_type": "markdown",
   "metadata": {},
   "source": [
    "カメラクラスをインスタンス化します。"
   ]
  },
  {
   "cell_type": "code",
   "execution_count": null,
   "metadata": {},
   "outputs": [],
   "source": [
    "from jetcam.csi_camera import CSICamera\n",
    "\n",
    "camera = CSICamera(width=224, height=224, capture_fps=10)"
   ]
  },
  {
   "cell_type": "markdown",
   "metadata": {},
   "source": [
    "次に、車体固有のパラメータを設定します。  \n",
    "``basic_motion.ipynb``で確認したパラメータを設定します。  \n",
    "\n",
    "### エンドポイント設定\n",
    "RC Carのミドルクラス以上の送信機では標準的な機能となる**エンドポイント**と同じ機能を設定します。  \n",
    "物理的にそれ以上左右に切れない状態でさらにステアリングを動作させようとするとサーボが壊れてしまうため、これ以上動作させないためのエンドポイントの設定はとても重要になります。  \n",
    "エンドポイントではサーボとモーターの動作の限界点を設定します。  \n",
    "\n",
    "|パラメータ|機能|値範囲|解説|\n",
    "|:--|:--|:--|:--|\n",
    "|car.steering_min_endpoint|左切れ角のエンドポイント|[-1.0, 1.0]|TT-02の場合は**-0.3**付近がちょうどいい値です。**steering_gain=1.0**、**steering_offset=0.0**、**steering=-1.0**の時にフロントタイヤが左いっぱいに切れている状態で、サーボからジリジリ音がしない値を設定します。0.01くらいの小さい範囲で調整します。|\n",
    "|car.steering_max_endpoint|右切れ角のエンドポイント|[-1.0, 1.0]|TT-02の場合は**0.3**付近がちょうどいい値です。**steering_gain=1.0**、**steering_offset=0.0**、**steering=1.0**の時にフロントタイヤが右いっぱいに切れている状態で、サーボからジリジリ音がしない値を設定します。0.01くらいの小さい範囲で調整します。|\n",
    "|car.throttle_min_endpoint|後進のエンドポイント|[-1.0, 1.0]|TT-02の場合は**-0.69**付近がちょうどいい値です。**throttle_gain=1.0**、**throttle_offset=0.0**、**throttle=-1.0**の時にモーターが最大速度で後進する値を設定します。|\n",
    "|car.throttle_max_endpoint|前進のエンドポイント|[-1.0, 1.0]|TT-02の場合は**0.69**付近がちょうどいい値です。**throttle_gain=1.0**、**throttle_offset=0.0**、**throttle=1.0**の時にモーターが最大速度で前進する値を設定します。|\n",
    "\n",
    "\n",
    "### ゲイン設定\n",
    "ゲインではサーボとモーターの値に適用率を設定します。  \n",
    "車両の基本操作ではステアリングとスロットルは共に**1.0**としておくことで車両は基本性能を発揮できますが、最初はスロットルゲインを**0.3**程度に設定しておいたほうが安全です。　　\n",
    "> ステアリングゲインは少し大きめの値にしておくといいでしょう。左右の最大切れ角となる-1.0および1.0は予測結果として出しにくい値です。うまく走行できるようにゲインを調整します。\n",
    "\n",
    "|パラメータ|機能|値範囲|解説|\n",
    "|:--|:--|:--|:--|\n",
    "|car.steering_gain|ステアリング適用率|[-2.0, 2.0]|TT-02の場合は**1.0**にしておきます。**car.steering_gain**の値がプラスかマイナスかは、車種毎に固定になります（サーボの取り付け向きで決まります）。**car.steering**がプラスの時に右、マイナスの時に左にステアリングが切れるように**car.steering_gain**のプラスマイナスを決めます。|\n",
    "|car.throttle_gain|スロットル適用率|[-1.0, 1.0]|TT-02の場合は最初は**-0.3**にしておきます。速度に慣れてきたら**-1.0**まで上げることができます。プラスかマイナスかはESCの仕様で決まります。**car.throttle**がプラスの時に前進するように**car.throttle_gain**のプラスマイナスを決めます。|\n",
    "\n",
    "\n",
    "### 初期値とオフセット\n",
    "ステアリングとスロットルの初期値とオフセットを設定します。  \n",
    "\n",
    "|パラメータ|機能|値範囲|解説|\n",
    "|:--|:--|:--|:--|\n",
    "|car.steering|左右ステアリング値|[-1.0, 1.0]|現在のステアリングの値。0.0がニュートラル位置(理論上まっすぐ進む状態。実際は車体のがたつき、ゆがみ等でまっすぐ進まないことが多いです)。|\n",
    "|car.steering_offset|ステアリングニュートラル補正値|[-1.0, 1.0]|車体がまっすぐ走行する位置に設定します。TT-02ノーマル車体の場合はステアリングのがたつきが大きく、完全にまっすぐ走行させることは不可能ですので、だいたいまっすぐ走行できればOKです。|\n",
    "|car.throttle|前後スロットル値|[-1.0, 1.0]|現在のスロットルの値。0.0がニュートラル位置。|\n",
    "|car.throttle_offset|スロットルニュートラル補正値|[-1.0, 1.0]|何もしないときに車体が停止する値に設定します。|"
   ]
  },
  {
   "cell_type": "code",
   "execution_count": null,
   "metadata": {},
   "outputs": [],
   "source": [
    "# 車両パラメータを初期化します\n",
    "car.steering_min_endpoint = -0.3 # 左切れ角のエンドポイント\n",
    "car.steering_max_endpoint = 0.3 # 右切れ角のエンドポイント\n",
    "car.throttle_min_endpoint = -0.69 # 後進のエンドポイント\n",
    "car.throttle_max_endpoint = 0.69 # 前進のエンドポイント\n",
    "\n",
    "car.steering = 0\n",
    "car.steering_gain = 1.0\n",
    "car.steering_offset = 0\n",
    "car.throttle = 0\n",
    "car.throttle_gain = -0.3\n",
    "car.throttle_offset = 0"
   ]
  },
  {
   "cell_type": "markdown",
   "metadata": {},
   "source": [
    "# 走行しよう！\n",
    "次のコードを実行すると、車両の走行準備が整います。  \n",
    "最初は車両を持ち上げた状態で動作を確認するのがいいでしょう。  \n",
    "準備ができたら、実際にJetRacerをコース上において自動走行してみましょう。"
   ]
  },
  {
   "cell_type": "code",
   "execution_count": null,
   "metadata": {},
   "outputs": [],
   "source": [
    "import ipywidgets.widgets as widgets\n",
    "from IPython.display import display\n",
    "from jetracer.utils import preprocess\n",
    "import numpy as np\n",
    "import threading\n",
    "import traitlets\n",
    "import cv2\n",
    "import time\n",
    "import ipywidgets\n",
    "from ipywidgets import Label\n",
    "from jetcam.utils import bgr8_to_jpeg\n",
    "\n",
    "# Controll Widgets\n",
    "style = {'description_width': 'initial'}\n",
    "steering_slider = widgets.FloatSlider(description='steering', style=style, min=-1.0, max=1.0, step=0.01, orientation='horizontal')\n",
    "steering_gain = widgets.BoundedFloatText(description='steering_gain', style=style ,min=-2.0, max=2.0, step=0.01, value=car.steering_gain)\n",
    "steering_offset = widgets.BoundedFloatText(description='steering_offset', style=style, min=-1.0, max=1.0, step=0.01, value=car.steering_offset)\n",
    "throttle_slider = widgets.FloatSlider(description='throttle', style=style, min=-1.0, max=1.0, step=0.01, orientation='vertical')\n",
    "throttle_gain = widgets.BoundedFloatText(description='throttle_gain', style=style, min=-1.0, max=1.0, step=0.01, value=car.throttle_gain)\n",
    "throttle_offset = widgets.BoundedFloatText(description='throttle_offset', style=style, min=-1.0, max=1.0, step=0.01, value=car.throttle_offset)\n",
    "\n",
    "# create a horizontal box container to place the sliders next to eachother\n",
    "slider_container = widgets.HBox([throttle_slider, steering_slider])\n",
    "slider_container.layout.align_items='center'\n",
    "value_container = widgets.VBox([steering_gain, steering_offset, throttle_gain, throttle_offset])\n",
    "\n",
    "control_container = widgets.HBox([slider_container, value_container])\n",
    "control_container.layout.align_items='center'\n",
    "\n",
    "# Link\n",
    "steering_link = traitlets.link((steering_slider, 'value'), (car, 'steering'))\n",
    "steering_gain_link = traitlets.link((steering_gain, 'value'), (car, 'steering_gain'))\n",
    "steering_offset_link = traitlets.link((steering_offset, 'value'), (car, 'steering_offset'))\n",
    "throttle_link = traitlets.link((throttle_slider, 'value'), (car, 'throttle'))\n",
    "throttle_gain_link = traitlets.link((throttle_gain, 'value'), (car, 'throttle_gain'))\n",
    "throttle_offset_link = traitlets.link((throttle_offset, 'value'), (car, 'throttle_offset'))\n",
    "\n",
    "description_style = {'description_width': 'initial'}\n",
    "\n",
    "run_button = widgets.Button(description='推論開始')\n",
    "stop_button = widgets.Button(description='推論停止')\n",
    "log_widget = widgets.Textarea(description='ログ', style=description_style)\n",
    "\n",
    "prediction_widget = ipywidgets.Image(format='jpeg', width=camera.width, height=camera.height)\n",
    "\n",
    "def live():\n",
    "    global running, count, prediction_widget\n",
    "    log_widget.value = \"live\"\n",
    "    count = 0\n",
    "    while running:\n",
    "        count = count + 1\n",
    "        log_widget.value = str(count) + \"回目の推論\"\n",
    "        image = camera.read()\n",
    "        prediction = image.copy()\n",
    "        image = preprocess(image).half()\n",
    "        output = model_trt(image).detach().cpu().numpy().flatten()\n",
    "        x_pred = float(output[0])\n",
    "        y_pred = float(output[1])\n",
    "        car.steering = x_pred\n",
    "        #car.throttle = y_pred/2.0 + 0.5\n",
    "\n",
    "        \"\"\"推論結果を画面に表示したい場合はここを有効化して、最後にdisplay(prediction_widget)でwidgetを表示させます。\"\"\"\n",
    "        x_ratio = x_pred/2 + 0.5\n",
    "        y_ratio = y_pred/2 + 0.5\n",
    "        x = int(camera.width * x_ratio)\n",
    "        y = int(camera.height * y_ratio)\n",
    "\n",
    "        prediction = cv2.circle(prediction, (int(x), int(y)), 8, (255, 0, 0), 3)\n",
    "        prediction_widget.value = bgr8_to_jpeg(prediction)\n",
    "        \"\"\"\"\"\"\n",
    "\n",
    "\n",
    "def run(c):\n",
    "    global running, execute_thread, start_time\n",
    "    log_widget.value = \"run\"\n",
    "    running = True\n",
    "    execute_thread = threading.Thread(target=live)\n",
    "    execute_thread.start()\n",
    "    start_time = time.time()\n",
    "\n",
    "def stop(c):\n",
    "    global running, execute_thread, start_time, count\n",
    "    end_time = time.time() - start_time\n",
    "    fps = count/int(end_time)\n",
    "    log_widget.value = \"FPS: \" + str(fps) + \"(1秒あたりの推論実行回数)\"\n",
    "    running = False\n",
    "    execute_thread.stop()\n",
    "    car.throttle = 0\n",
    "    \n",
    "run_button.on_click(run)\n",
    "stop_button.on_click(stop)\n",
    "\n",
    "# create a horizontal box container to place the sliders next to eachother\n",
    "run_widget = widgets.VBox([\n",
    "    widgets.HBox([run_button, stop_button]),\n",
    "    log_widget\n",
    "])\n",
    "\n",
    "# display the container in this cell's output\n",
    "display(prediction_widget)\n",
    "display(Label('スロットルは手動で設定します。ステアリングは推論中は自動設定されます。'))\n",
    "display(control_container)\n",
    "display(run_widget)"
   ]
  },
  {
   "cell_type": "code",
   "execution_count": null,
   "metadata": {},
   "outputs": [],
   "source": []
  }
 ],
 "metadata": {
  "kernelspec": {
   "display_name": "Python 3",
   "language": "python",
   "name": "python3"
  },
  "language_info": {
   "codemirror_mode": {
    "name": "ipython",
    "version": 3
   },
   "file_extension": ".py",
   "mimetype": "text/x-python",
   "name": "python",
   "nbconvert_exporter": "python",
   "pygments_lexer": "ipython3",
   "version": "3.6.9"
  }
 },
 "nbformat": 4,
 "nbformat_minor": 4
}
