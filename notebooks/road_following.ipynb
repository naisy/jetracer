{
 "cells": [
  {
   "cell_type": "markdown",
   "metadata": {},
   "source": [
    "Tensor RTに変換された学習済みモデルをつかって自動走行します。"
   ]
  },
  {
   "cell_type": "code",
   "execution_count": 1,
   "metadata": {},
   "outputs": [],
   "source": [
    "import torch\n",
    "import torchvision\n",
    "\n",
    "device = torch.device('cuda')\n",
    "model = torchvision.models.resnet18(pretrained=False)\n",
    "model.fc = torch.nn.Linear(512, 2)\n",
    "model = model.cuda().eval().half()"
   ]
  },
  {
   "cell_type": "markdown",
   "metadata": {},
   "source": [
    "Tensor RT形式のモデルを読み込む。"
   ]
  },
  {
   "cell_type": "code",
   "execution_count": 2,
   "metadata": {},
   "outputs": [
    {
     "data": {
      "text/plain": [
       "<All keys matched successfully>"
      ]
     },
     "execution_count": 2,
     "metadata": {},
     "output_type": "execute_result"
    }
   ],
   "source": [
    "import torch\n",
    "from torch2trt import TRTModule\n",
    "\n",
    "model_trt = TRTModule()\n",
    "model_trt.load_state_dict(torch.load('road_following_model_trt.pth'))"
   ]
  },
  {
   "cell_type": "markdown",
   "metadata": {},
   "source": [
    "racecarクラスをインスタンス化する"
   ]
  },
  {
   "cell_type": "code",
   "execution_count": 3,
   "metadata": {},
   "outputs": [],
   "source": [
    "from jetracer.nvidia_racecar import NvidiaRacecar\n",
    "car = NvidiaRacecar()"
   ]
  },
  {
   "cell_type": "markdown",
   "metadata": {},
   "source": [
    "カメラの起動のためにカメラを制御するnvargus-daemonの再起動。"
   ]
  },
  {
   "cell_type": "code",
   "execution_count": 4,
   "metadata": {},
   "outputs": [
    {
     "name": "stdout",
     "output_type": "stream",
     "text": [
      "[sudo] password for jetson: "
     ]
    }
   ],
   "source": [
    "!echo jetson | sudo -S systemctl restart nvargus-daemon"
   ]
  },
  {
   "cell_type": "markdown",
   "metadata": {},
   "source": [
    "カメラクラスをインスタンス化する。"
   ]
  },
  {
   "cell_type": "code",
   "execution_count": 5,
   "metadata": {},
   "outputs": [],
   "source": [
    "from jetcam.csi_camera import CSICamera\n",
    "\n",
    "camera = CSICamera(width=224, height=224, capture_fps=40)"
   ]
  },
  {
   "cell_type": "markdown",
   "metadata": {},
   "source": [
    "最後に、JetRacerを下に置き、下記セルを実行します。\n",
    "\n",
    "* 車の左右にうまく回らない場合は、`STEERING_GAIN` を小さいくする\n",
    "* ターンがうまくいかない場合は、`STEERING_GAIN`を大きくする\n",
    "* 車が左に傾く場合は、`STEERING_BIAS`を値を-0.05ぐらいづつマイナスにする\n",
    "* 車が右に傾く場合は、`STEERING_BIAS`を値を+0.05ぐらいづつプラスにする\n",
    "\n",
    "|値|意味|\n",
    "|:--|:--|\n",
    "|st_gain|ハンドルの曲がる比率を調整(推論開始ボタンを押したタイミングで反映)|\n",
    "|st_offset|ハンドルの初期位置を調整(推論開始ボタンを押したタイミングで反映)|"
   ]
  },
  {
   "cell_type": "code",
   "execution_count": 18,
   "metadata": {},
   "outputs": [],
   "source": [
    "# 車両パラメータを初期化します\n",
    "car.steering = 0\n",
    "car.steering_gain = 0.3\n",
    "car.steering_offset = 0\n",
    "car.steering_channel = 0\n",
    "car.throttle = 0\n",
    "car.throttle_gain = 0.69\n",
    "car.throttle_offset = 0\n",
    "car.throttle_channel = 1"
   ]
  },
  {
   "cell_type": "code",
   "execution_count": 19,
   "metadata": {},
   "outputs": [
    {
     "data": {
      "application/vnd.jupyter.widget-view+json": {
       "model_id": "d93ff44a5cf54e03898e20e6c5c621df",
       "version_major": 2,
       "version_minor": 0
      },
      "text/plain": [
       "HBox(children=(HBox(children=(FloatSlider(value=0.0, description='throttle', max=1.0, min=-1.0, orientation='v…"
      ]
     },
     "metadata": {},
     "output_type": "display_data"
    },
    {
     "data": {
      "application/vnd.jupyter.widget-view+json": {
       "model_id": "9d3fe10575884fe987fc6280d713685b",
       "version_major": 2,
       "version_minor": 0
      },
      "text/plain": [
       "VBox(children=(HBox(children=(Button(description='ハンドルのチェック', style=ButtonStyle()),)), HBox(children=(Button(d…"
      ]
     },
     "metadata": {},
     "output_type": "display_data"
    }
   ],
   "source": [
    "import ipywidgets.widgets as widgets\n",
    "from IPython.display import display\n",
    "from jetracer.utils import preprocess\n",
    "import numpy as np\n",
    "import threading\n",
    "import traitlets\n",
    "import time\n",
    "\n",
    "style = {'description_width': 'initial'}\n",
    "steering_slider = widgets.FloatSlider(description='steering', style=style, min=-1.0, max=1.0, step=0.01, orientation='horizontal')\n",
    "steering_gain = widgets.BoundedFloatText(description='steering_gain', style=style ,min=-1.0, max=1.0, step=0.01, value=car.steering_gain)\n",
    "steering_offset = widgets.BoundedFloatText(description='steering_offset', style=style, min=-1.0, max=1.0, step=0.01, value=car.steering_offset)\n",
    "throttle_slider = widgets.FloatSlider(description='throttle', style=style, min=-1.0, max=1.0, step=0.01, orientation='vertical')\n",
    "throttle_gain = widgets.BoundedFloatText(description='throttle_gain', style=style, min=-1.0, max=1.0, step=0.01, value=car.throttle_gain)\n",
    "throttle_offset = widgets.BoundedFloatText(description='throttle_offset', style=style, min=-1.0, max=1.0, step=0.01, value=car.throttle_offset)\n",
    "\n",
    "# create a horizontal box container to place the sliders next to eachother\n",
    "slider_container = widgets.HBox([throttle_slider, steering_slider])\n",
    "slider_container.layout.align_items='center'\n",
    "value_container = widgets.VBox([steering_gain, steering_offset, throttle_gain, throttle_offset])\n",
    "\n",
    "control_container = widgets.HBox([slider_container, value_container])\n",
    "control_container.layout.align_items='center'\n",
    "\n",
    "# display the container in this cell's output\n",
    "display(control_container)\n",
    "\n",
    "\n",
    "steering_link = traitlets.link((steering_slider, 'value'), (car, 'steering'))\n",
    "steering_gain_link = traitlets.link((steering_gain, 'value'), (car, 'steering_gain'))\n",
    "steering_offset_link = traitlets.link((steering_offset, 'value'), (car, 'steering_offset'))\n",
    "throttle_link = traitlets.link((throttle_slider, 'value'), (car, 'throttle'))\n",
    "throttle_gain_link = traitlets.link((throttle_gain, 'value'), (car, 'throttle_gain'))\n",
    "throttle_offset_link = traitlets.link((throttle_offset, 'value'), (car, 'throttle_offset'))\n",
    "\n",
    "\n",
    "check_button = widgets.Button(description='ハンドルのチェック')\n",
    "run_button = widgets.Button(description='推論開始')\n",
    "stop_button = widgets.Button(description='推論停止')\n",
    "log_widget = widgets.Textarea(description='ログ')\n",
    "result_widget = widgets.FloatText(description='推論から導いたXの値')\n",
    "\n",
    "def live():\n",
    "    global running, count\n",
    "    log_widget.value = \"live\"\n",
    "    count = 0\n",
    "    while running:\n",
    "        count = count + 1\n",
    "        log_widget.value = str(count) + \"回目の推論\"\n",
    "        image = camera.read()\n",
    "        image = preprocess(image).half()\n",
    "        output = model_trt(image).detach().cpu().numpy().flatten()\n",
    "        x = float(output[0])\n",
    "        #y = float(output[1])\n",
    "        result_widget.value = x\n",
    "        car.steering = x\n",
    "        #car.throttle = y\n",
    "\n",
    "def run(c):\n",
    "    global running, execute_thread, start_time\n",
    "    log_widget.value = \"run\"\n",
    "    running = True\n",
    "    execute_thread = threading.Thread(target=live)\n",
    "    execute_thread.start()\n",
    "    start_time = time.time()\n",
    "\n",
    "def stop(c):\n",
    "    global running, execute_thread, start_time, count\n",
    "    end_time = time.time() - start_time\n",
    "    fps = count/int(end_time)\n",
    "    log_widget.value = \"FPS: \" + str(fps) + \"(1秒あたりの推論実行回数)\"\n",
    "    running = False\n",
    "    execute_thread.stop()\n",
    "    \n",
    "def check(c):\n",
    "    global running, execute_thread, start_time, count\n",
    "    end_time = time.time() - start_time\n",
    "    fps = count/int(end_time)\n",
    "    log_widget.value = \"チェック用に推論を停止します。FPS: \" + str(fps) + \"(1秒あたりの推論実行回数)\"\n",
    "    running = False\n",
    "    count = 0\n",
    "    log_widget.value = \"car.steering:1\"\n",
    "    car.steering = 1\n",
    "    time.sleep(1)\n",
    "    car.steering = -1\n",
    "    time.sleep(1)\n",
    "    car.steering = 0\n",
    "    \n",
    "run_button.on_click(run)\n",
    "stop_button.on_click(stop)\n",
    "check_button.on_click(check)\n",
    "\n",
    "# create a horizontal box container to place the sliders next to eachother\n",
    "run_widget = widgets.VBox([\n",
    "    widgets.HBox([check_button]),\n",
    "    widgets.HBox([run_button, stop_button]),\n",
    "    result_widget,\n",
    "    log_widget\n",
    "])\n",
    "\n",
    "# display the container in this cell's output\n",
    "display(run_widget)"
   ]
  },
  {
   "cell_type": "code",
   "execution_count": null,
   "metadata": {},
   "outputs": [],
   "source": []
  }
 ],
 "metadata": {
  "kernelspec": {
   "display_name": "Python 3",
   "language": "python",
   "name": "python3"
  },
  "language_info": {
   "codemirror_mode": {
    "name": "ipython",
    "version": 3
   },
   "file_extension": ".py",
   "mimetype": "text/x-python",
   "name": "python",
   "nbconvert_exporter": "python",
   "pygments_lexer": "ipython3",
   "version": "3.6.9"
  }
 },
 "nbformat": 4,
 "nbformat_minor": 4
}
