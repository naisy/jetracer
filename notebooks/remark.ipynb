{
 "cells": [
  {
   "cell_type": "markdown",
   "metadata": {},
   "source": [
    "# Remak\n",
    "\n",
    "x,y座標を再度タグ付けできます。\n",
    "road_following_A/apex/のデータを読み込み、road_following_REMAK/apex/に保存されます。"
   ]
  },
  {
   "cell_type": "code",
   "execution_count": 1,
   "metadata": {},
   "outputs": [
    {
     "ename": "KeyboardInterrupt",
     "evalue": "",
     "output_type": "error",
     "traceback": [
      "\u001b[0;31m---------------------------------------------------------------------------\u001b[0m",
      "\u001b[0;31mKeyboardInterrupt\u001b[0m                         Traceback (most recent call last)",
      "\u001b[0;32m<ipython-input-1-043ac5b7958b>\u001b[0m in \u001b[0;36m<module>\u001b[0;34m\u001b[0m\n\u001b[0;32m----> 1\u001b[0;31m \u001b[0;32mfrom\u001b[0m \u001b[0mjetracer\u001b[0m\u001b[0;34m.\u001b[0m\u001b[0mutils\u001b[0m \u001b[0;32mimport\u001b[0m \u001b[0mpreprocess\u001b[0m\u001b[0;34m\u001b[0m\u001b[0;34m\u001b[0m\u001b[0m\n\u001b[0m\u001b[1;32m      2\u001b[0m \u001b[0;32mfrom\u001b[0m \u001b[0mjetracer\u001b[0m\u001b[0;34m.\u001b[0m\u001b[0mxy_dataset\u001b[0m \u001b[0;32mimport\u001b[0m \u001b[0mXYDataset\u001b[0m\u001b[0;34m\u001b[0m\u001b[0;34m\u001b[0m\u001b[0m\n",
      "\u001b[0;32m/usr/lib/python3.6/importlib/_bootstrap.py\u001b[0m in \u001b[0;36m_find_and_load\u001b[0;34m(name, import_)\u001b[0m\n",
      "\u001b[0;32m/usr/lib/python3.6/importlib/_bootstrap.py\u001b[0m in \u001b[0;36m_find_and_load_unlocked\u001b[0;34m(name, import_)\u001b[0m\n",
      "\u001b[0;32m/usr/lib/python3.6/importlib/_bootstrap.py\u001b[0m in \u001b[0;36m_load_unlocked\u001b[0;34m(spec)\u001b[0m\n",
      "\u001b[0;32m/usr/lib/python3.6/importlib/_bootstrap.py\u001b[0m in \u001b[0;36m_load_backward_compatible\u001b[0;34m(spec)\u001b[0m\n",
      "\u001b[0;32m/usr/local/lib/python3.6/dist-packages/jetracer-0.0.0-py3.6.egg/jetracer/utils.py\u001b[0m in \u001b[0;36m<module>\u001b[0;34m\u001b[0m\n\u001b[1;32m      6\u001b[0m \u001b[0;32mimport\u001b[0m \u001b[0mnumpy\u001b[0m \u001b[0;32mas\u001b[0m \u001b[0mnp\u001b[0m\u001b[0;34m\u001b[0m\u001b[0;34m\u001b[0m\u001b[0m\n\u001b[1;32m      7\u001b[0m \u001b[0;34m\u001b[0m\u001b[0m\n\u001b[0;32m----> 8\u001b[0;31m \u001b[0mmean\u001b[0m \u001b[0;34m=\u001b[0m \u001b[0mtorch\u001b[0m\u001b[0;34m.\u001b[0m\u001b[0mTensor\u001b[0m\u001b[0;34m(\u001b[0m\u001b[0;34m[\u001b[0m\u001b[0;36m0.485\u001b[0m\u001b[0;34m,\u001b[0m \u001b[0;36m0.456\u001b[0m\u001b[0;34m,\u001b[0m \u001b[0;36m0.406\u001b[0m\u001b[0;34m]\u001b[0m\u001b[0;34m)\u001b[0m\u001b[0;34m.\u001b[0m\u001b[0mcuda\u001b[0m\u001b[0;34m(\u001b[0m\u001b[0;34m)\u001b[0m\u001b[0;34m\u001b[0m\u001b[0;34m\u001b[0m\u001b[0m\n\u001b[0m\u001b[1;32m      9\u001b[0m \u001b[0mstd\u001b[0m \u001b[0;34m=\u001b[0m \u001b[0mtorch\u001b[0m\u001b[0;34m.\u001b[0m\u001b[0mTensor\u001b[0m\u001b[0;34m(\u001b[0m\u001b[0;34m[\u001b[0m\u001b[0;36m0.229\u001b[0m\u001b[0;34m,\u001b[0m \u001b[0;36m0.224\u001b[0m\u001b[0;34m,\u001b[0m \u001b[0;36m0.225\u001b[0m\u001b[0;34m]\u001b[0m\u001b[0;34m)\u001b[0m\u001b[0;34m.\u001b[0m\u001b[0mcuda\u001b[0m\u001b[0;34m(\u001b[0m\u001b[0;34m)\u001b[0m\u001b[0;34m\u001b[0m\u001b[0;34m\u001b[0m\u001b[0m\n\u001b[1;32m     10\u001b[0m \u001b[0;34m\u001b[0m\u001b[0m\n",
      "\u001b[0;31mKeyboardInterrupt\u001b[0m: "
     ]
    }
   ],
   "source": [
    "from jetracer.utils import preprocess\n",
    "from jetracer.xy_dataset import XYDataset\n"
   ]
  },
  {
   "cell_type": "code",
   "execution_count": null,
   "metadata": {},
   "outputs": [],
   "source": [
    "import os\n",
    "import matplotlib.pyplot as plt\n",
    "import matplotlib.image as mpimg\n",
    "import matplotlib.patches as patches\n",
    "import re\n",
    "import ipywidgets\n",
    "from ipywidgets import Button, Layout, Textarea, HBox, VBox\n",
    "from jupyter_clickable_image_widget import ClickableImageWidget\n",
    "from jetcam.utils import bgr8_to_jpeg\n",
    "import cv2\n",
    "import torchvision.transforms as transforms\n",
    "#from jetracer.utils import preprocess\n",
    "#from jetracer.xy_dataset import XYDataset\n",
    "\n",
    "DIR = \"/home/jetson/jetracer/notebooks/\"\n",
    "TASK = 'road_following'\n",
    "IMG_WIDTH = 224\n",
    "IMG_HEIGHT = 224\n",
    "CATEGORIES = ['apex']\n",
    "DATASETS = ['A', 'B', 'REMARK']\n",
    "LOAD_DATASETS = ['A', 'B']\n",
    "SAVE_DATASETS = ['REMARK']\n",
    "\n",
    "TRANSFORMS = transforms.Compose([\n",
    "    transforms.ColorJitter(0.2, 0.2, 0.2, 0.2),\n",
    "    transforms.Resize((224, 224)),\n",
    "    transforms.ToTensor(),\n",
    "    transforms.Normalize([0.485, 0.456, 0.406], [0.229, 0.224, 0.225])\n",
    "])\n",
    "\n",
    "datasets = {}\n",
    "for name in DATASETS:\n",
    "    datasets[name] = XYDataset(TASK + '_' + name, CATEGORIES, TRANSFORMS, random_hflip=True)\n",
    "dataset = datasets[DATASETS[2]]"
   ]
  },
  {
   "cell_type": "code",
   "execution_count": null,
   "metadata": {},
   "outputs": [],
   "source": [
    "l = Layout(flex='0 1 auto', height='100px', min_height='100px', width='auto')\n",
    "process_widget = ipywidgets.Textarea(description='ログ', value='', layout=l)\n",
    "\n",
    "process_no = 0\n",
    "def write_log(msg):\n",
    "    global process_widget, process_no\n",
    "    process_no = process_no + 1\n",
    "    process_widget.value = str(process_no) + \": \" + msg + \"\\n\" + process_widget.value"
   ]
  },
  {
   "cell_type": "code",
   "execution_count": null,
   "metadata": {},
   "outputs": [],
   "source": [
    "picture_widget = ClickableImageWidget(width=224, height=224)\n",
    "no_widget = ipywidgets.IntText(description='no')"
   ]
  },
  {
   "cell_type": "code",
   "execution_count": null,
   "metadata": {},
   "outputs": [],
   "source": [
    "def load_img(no):\n",
    "    global category_widget,load_datasets_widget,img,load_flag\n",
    "    category_value = category_widget.value\n",
    "    datasets_value = load_datasets_widget.value\n",
    "    path = DIR + TASK + \"_\" + datasets_value + \"/\" + category_value + \"/\"\n",
    "    filenames = os.listdir(path)\n",
    "    if no > len(filenames):\n",
    "        write_log(\"ファイルが存在しません。\" + str(len(filenames)-1) + \"以内の値を設定してください。\")\n",
    "        \n",
    "    name = filenames[no]\n",
    "        \n",
    "    pattern = '(\\d+)_(\\d+).*'\n",
    "    result = re.match(pattern, name)\n",
    "    if result:\n",
    "        x = result.group(1)\n",
    "        y = result.group(2)\n",
    "    img = cv2.imread(path + \"/\" + name)\n",
    "    marked_img = img.copy()\n",
    "    marked_img = cv2.circle(marked_img, (int(x), int(y)), 8, (0, 255, 0), 3)\n",
    "    picture_widget.value = bgr8_to_jpeg(marked_img)\n",
    "    write_log(str(no) + \"枚目の\" + name + \"を読込ました。\")\n",
    "\n",
    "def load_pic(c):\n",
    "    global img,load_flag\n",
    "    load_flag = True\n",
    "    no = no_widget.value\n",
    "    load_img(no)\n",
    "\n",
    "def next_pic(c):\n",
    "    global x,y,load_flag\n",
    "    load_flag = True\n",
    "    no = no_widget.value\n",
    "    no = int(no) + 1\n",
    "    no_widget.value = no\n",
    "    load_img(no)\n",
    "    \n",
    "def save_snapshot(_, content, msg):\n",
    "    global img,x,y,load_flag\n",
    "    if content['event'] == 'click' and load_flag == True:\n",
    "        load_flag = False\n",
    "        data = content['eventData']\n",
    "        x = data['offsetX']\n",
    "        y = data['offsetY']\n",
    "        remarked_img = img.copy()\n",
    "        remarked_img = cv2.circle(remarked_img, (int(x), int(y)), 8, (0, 255, 0), 3)\n",
    "        picture_widget.value = bgr8_to_jpeg(remarked_img)\n",
    "        dataset.save_entry(CATEGORIES[0], img, x, y)\n",
    "        write_log(\"新しい座標で保存しました。\")\n",
    "        \n",
    "\n",
    "picture_widget.on_msg(save_snapshot)\n",
    "    \n",
    "load_pic_button = ipywidgets.Button(description='load')\n",
    "next_pic_button = ipywidgets.Button(description='next')\n",
    "\n",
    "load_pic_button.on_click(load_pic)\n",
    "next_pic_button.on_click(next_pic)\n",
    "\n",
    "load_datasets_widget = ipywidgets.Dropdown(options=LOAD_DATASETS, description='load dataset', index=0)\n",
    "save_datasets_widget = ipywidgets.Dropdown(options=SAVE_DATASETS, description='save dataset')\n",
    "\n",
    "category_widget = ipywidgets.Dropdown(options=CATEGORIES, description='load category')\n",
    "\n",
    "data_collection_widget = ipywidgets.VBox([\n",
    "    ipywidgets.HBox([category_widget, load_datasets_widget]),\n",
    "    ipywidgets.HBox([category_widget, save_datasets_widget]),\n",
    "    ipywidgets.HBox([no_widget,load_pic_button,next_pic_button]),\n",
    "    picture_widget,\n",
    "    process_widget,\n",
    "])\n",
    "display(data_collection_widget)"
   ]
  },
  {
   "cell_type": "code",
   "execution_count": null,
   "metadata": {},
   "outputs": [],
   "source": []
  },
  {
   "cell_type": "code",
   "execution_count": null,
   "metadata": {},
   "outputs": [],
   "source": []
  },
  {
   "cell_type": "code",
   "execution_count": null,
   "metadata": {},
   "outputs": [],
   "source": []
  },
  {
   "cell_type": "code",
   "execution_count": null,
   "metadata": {},
   "outputs": [],
   "source": []
  }
 ],
 "metadata": {
  "kernelspec": {
   "display_name": "Python 3",
   "language": "python",
   "name": "python3"
  },
  "language_info": {
   "codemirror_mode": {
    "name": "ipython",
    "version": 3
   },
   "file_extension": ".py",
   "mimetype": "text/x-python",
   "name": "python",
   "nbconvert_exporter": "python",
   "pygments_lexer": "ipython3",
   "version": "3.6.9"
  }
 },
 "nbformat": 4,
 "nbformat_minor": 4
}
